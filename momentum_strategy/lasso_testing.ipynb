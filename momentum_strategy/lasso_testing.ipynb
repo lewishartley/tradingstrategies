{
 "cells": [
  {
   "cell_type": "code",
   "execution_count": 5,
   "metadata": {},
   "outputs": [],
   "source": [
    "import requests\n",
    "import pandas as pd\n",
    "import numpy as np\n",
    "import sqlalchemy\n",
    "import pytz\n",
    "from datetime import datetime, timedelta\n",
    "from pandas_market_calendars import get_calendar\n",
    "from sklearn.linear_model import Lasso\n",
    "from scipy.optimize import minimize"
   ]
  },
  {
   "cell_type": "code",
   "execution_count": 6,
   "metadata": {},
   "outputs": [],
   "source": [
    "# Set random seed for reproducibility\n",
    "np.random.seed(69)\n",
    "\n",
    "engine = sqlalchemy.create_engine(\"sqlite:///C:/Users/lewis/OneDrive/tradingstrategies/databases/momentum_strategy_2_database.db\")"
   ]
  },
  {
   "cell_type": "code",
   "execution_count": 7,
   "metadata": {},
   "outputs": [],
   "source": [
    "stock_returns = pd.read_sql(\"SELECT * FROM stock_returns\", con = engine)"
   ]
  },
  {
   "cell_type": "code",
   "execution_count": 63,
   "metadata": {},
   "outputs": [],
   "source": [
    "def fit_lasso_for_date(date, net_returns, alpha=0.01):\n",
    "    # Get returns up to the given date\n",
    "    returns_up_to_date = net_returns.loc[:date]\n",
    "    \n",
    "    # Calculate expected returns\n",
    "    expected_returns = returns_up_to_date.mean()\n",
    "    \n",
    "    # Fit the Lasso model\n",
    "    lasso = Lasso(alpha=alpha, positive=True, max_iter=10000)\n",
    "    lasso.fit(returns_up_to_date.values, expected_returns.values)\n",
    "    \n",
    "    # Get the Lasso weights\n",
    "    lasso_weights = pd.Series(lasso.coef_, index=expected_returns.index)\n",
    "    \n",
    "    # Normalize weights to sum to 1\n",
    "    lasso_weights = lasso_weights / lasso_weights.sum()\n",
    "    \n",
    "    return lasso_weights\n"
   ]
  },
  {
   "cell_type": "code",
   "execution_count": 8,
   "metadata": {},
   "outputs": [],
   "source": [
    "stock_returns = stock_returns.set_index('index')\n",
    "net_returns = stock_returns - 1"
   ]
  },
  {
   "cell_type": "code",
   "execution_count": 9,
   "metadata": {},
   "outputs": [],
   "source": [
    "expected_returns = net_returns.mean()"
   ]
  },
  {
   "cell_type": "code",
   "execution_count": 10,
   "metadata": {},
   "outputs": [],
   "source": [
    "cov_matrix = net_returns.cov()"
   ]
  },
  {
   "cell_type": "code",
   "execution_count": 24,
   "metadata": {},
   "outputs": [],
   "source": [
    "#risk_free_rates = pd.read_sql(\"SELECT * FROM risk_free_rate\", con=engine)"
   ]
  },
  {
   "cell_type": "code",
   "execution_count": 11,
   "metadata": {},
   "outputs": [],
   "source": [
    "risk_free_rate = 0.02/252"
   ]
  },
  {
   "cell_type": "code",
   "execution_count": 65,
   "metadata": {},
   "outputs": [],
   "source": [
    "def calculate_sharpe_ratio(returns, risk_free_rate=0):\n",
    "    excess_returns = returns - risk_free_rate\n",
    "    return np.mean(excess_returns) / np.std(excess_returns)"
   ]
  },
  {
   "cell_type": "code",
   "execution_count": 75,
   "metadata": {},
   "outputs": [],
   "source": [
    "def fit_lasso_for_date_range(start_date, end_date, net_returns, alpha=0.01, risk_free_rate=0.02/252):\n",
    "    # Get returns for the date range\n",
    "    returns_in_range = net_returns.loc[start_date:end_date]\n",
    "    \n",
    "    # Calculate Sharpe ratio for an equally weighted portfolio as the target\n",
    "    equal_weight_returns = returns_in_range.mean(axis=1)\n",
    "    target_sharpe = calculate_sharpe_ratio(equal_weight_returns, risk_free_rate)\n",
    "    \n",
    "    # Fit the Lasso model\n",
    "    lasso = Lasso(alpha=alpha, positive=True, fit_intercept=False, max_iter=10000)\n",
    "    lasso.fit(returns_in_range, equal_weight_returns)\n",
    "    \n",
    "    # Get the Lasso weights\n",
    "    lasso_weights = pd.Series(lasso.coef_, index=returns_in_range.columns)\n",
    "    \n",
    "    # Normalize weights to sum to 1\n",
    "    lasso_weights = lasso_weights / lasso_weights.sum()\n",
    "    \n",
    "    return lasso_weights\n",
    "    "
   ]
  },
  {
   "cell_type": "code",
   "execution_count": 78,
   "metadata": {},
   "outputs": [
    {
     "name": "stdout",
     "output_type": "stream",
     "text": [
      "NVDA    0.0\n",
      "TSLA    0.0\n",
      "AAPL    0.0\n",
      "AMD     0.0\n",
      "MSFT    0.0\n",
      "       ... \n",
      "MLI     0.0\n",
      "TLRY    0.0\n",
      "EXEL    0.0\n",
      "UGI     0.0\n",
      "HOLO    0.0\n",
      "Length: 1000, dtype: float64\n"
     ]
    }
   ],
   "source": [
    "# Example usage:\n",
    "start_date = '2020-01-01'\n",
    "end_date = '2020-12-31'\n",
    "lasso_weights = fit_lasso_for_date_range(start_date, end_date, net_returns)\n",
    "print(lasso_weights)"
   ]
  }
 ],
 "metadata": {
  "kernelspec": {
   "display_name": "base",
   "language": "python",
   "name": "python3"
  },
  "language_info": {
   "codemirror_mode": {
    "name": "ipython",
    "version": 3
   },
   "file_extension": ".py",
   "mimetype": "text/x-python",
   "name": "python",
   "nbconvert_exporter": "python",
   "pygments_lexer": "ipython3",
   "version": "3.11.9"
  }
 },
 "nbformat": 4,
 "nbformat_minor": 2
}
