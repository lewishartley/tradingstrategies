{
 "cells": [
  {
   "cell_type": "code",
   "execution_count": 2,
   "metadata": {},
   "outputs": [],
   "source": [
    "import requests\n",
    "import pandas as pd\n",
    "import numpy as np\n",
    "import sqlalchemy\n",
    "import matplotlib.pyplot as plt\n",
    "from datetime import datetime, timedelta\n",
    "from pandas_market_calendars import get_calendar"
   ]
  },
  {
   "cell_type": "code",
   "execution_count": 3,
   "metadata": {},
   "outputs": [],
   "source": [
    "polygon_api_key = \"KkfCQ7fsZnx0yK4bhX9fD81QplTh0Pf3\"\n",
    "calendar = get_calendar(\"NYSE\")"
   ]
  },
  {
   "cell_type": "code",
   "execution_count": 68,
   "metadata": {},
   "outputs": [],
   "source": [
    "engine = sqlalchemy.create_engine(\"sqlite:///C:/Users/lewis/OneDrive/tradingstrategies/databases/momentum_strategy_2_database.db\")\n",
    "tickers = pd.read_sql(\"SELECT * FROM all_stocks\", con = engine)[\"ticker\"].values"
   ]
  },
  {
   "cell_type": "code",
   "execution_count": 14,
   "metadata": {},
   "outputs": [
    {
     "name": "stdout",
     "output_type": "stream",
     "text": [
      "['2024-08-07' '2024-08-08' '2024-08-09' '2024-08-12' '2024-08-13'\n",
      " '2024-08-14' '2024-08-15' '2024-08-16' '2024-08-19' '2024-08-20'\n",
      " '2024-08-21']\n"
     ]
    }
   ],
   "source": [
    "end_date = (datetime.today()-timedelta(days=1))\n",
    "start_date = (end_date-timedelta(weeks=2))\n",
    "dates = calendar.schedule(start_date = start_date, end_date = end_date).index.strftime(\"%Y-%m-%d\").values\n",
    "\n",
    "print(dates)\n"
   ]
  },
  {
   "cell_type": "code",
   "execution_count": 18,
   "metadata": {},
   "outputs": [],
   "source": [
    "stocks_list = []\n",
    "times = []"
   ]
  },
  {
   "cell_type": "code",
   "execution_count": 19,
   "metadata": {},
   "outputs": [
    {
     "name": "stdout",
     "output_type": "stream",
     "text": [
      "0.0% complete, 0:00:11 left, ETA: 2024-08-22 12:08:58.346194\n",
      "9.09% complete, 0:00:10 left, ETA: 2024-08-22 12:08:58.379738\n",
      "18.18% complete, 0:00:09 left, ETA: 2024-08-22 12:08:58.389498\n",
      "27.27% complete, 0:00:08 left, ETA: 2024-08-22 12:08:58.505136\n",
      "36.36% complete, 0:00:07 left, ETA: 2024-08-22 12:08:58.701136\n",
      "45.45% complete, 0:00:06 left, ETA: 2024-08-22 12:08:58.719568\n",
      "54.55% complete, 0:00:05 left, ETA: 2024-08-22 12:08:58.726126\n",
      "63.64% complete, 0:00:04 left, ETA: 2024-08-22 12:08:58.736997\n",
      "72.73% complete, 0:00:03 left, ETA: 2024-08-22 12:08:58.887677\n",
      "81.82% complete, 0:00:02 left, ETA: 2024-08-22 12:08:58.929059\n",
      "90.91% complete, 0:00:01 left, ETA: 2024-08-22 12:08:59.064048\n"
     ]
    }
   ],
   "source": [
    "for date in dates:\n",
    "    \n",
    "    start_time = datetime.now()\n",
    "    \n",
    "    stocks_request = pd.json_normalize(requests.get(f\"https://api.polygon.io/v2/aggs/grouped/locale/us/market/stocks/{date}?adjusted=true&apiKey={polygon_api_key}\").json()[\"results\"])\n",
    "    stocks_request = stocks_request[stocks_request[\"T\"].isin(tickers)].copy()\n",
    "    stocks_list.append(stocks_request)\n",
    "    \n",
    "    end_time = datetime.now()\n",
    "    seconds_to_complete = (end_time - start_time).total_seconds()\n",
    "    times.append(seconds_to_complete)\n",
    "    iteration = round((np.where(dates==date)[0][0]/len(dates))*100,2)\n",
    "    iterations_remaining = len(dates) - np.where(dates==date)[0][0]\n",
    "    average_time_to_complete = np.mean(times)\n",
    "    estimated_completion_time = (datetime.now() + timedelta(seconds = int(average_time_to_complete*iterations_remaining)))\n",
    "    time_remaining = estimated_completion_time - datetime.now()\n",
    "    \n",
    "    print(f\"{iteration}% complete, {time_remaining} left, ETA: {estimated_completion_time}\")\n",
    "    "
   ]
  },
  {
   "cell_type": "code",
   "execution_count": 62,
   "metadata": {},
   "outputs": [],
   "source": [
    "stocks_notional = pd.concat(stocks_list).dropna()"
   ]
  },
  {
   "cell_type": "code",
   "execution_count": 63,
   "metadata": {},
   "outputs": [],
   "source": [
    "stocks_notional['notional'] = stocks_notional['c'] * stocks_notional['v']"
   ]
  },
  {
   "cell_type": "code",
   "execution_count": 64,
   "metadata": {},
   "outputs": [],
   "source": [
    "stocks_notional = stocks_notional.drop(columns=['v','vw','o','c','h','l','t','n'])\n",
    "stocks_notional = stocks_notional.groupby('T', as_index=False).sum()"
   ]
  },
  {
   "cell_type": "code",
   "execution_count": 65,
   "metadata": {},
   "outputs": [],
   "source": [
    "stocks_notional = stocks_notional.sort_values('notional', ascending=False)\n",
    "stocks_notional = stocks_notional.head(500)"
   ]
  },
  {
   "cell_type": "code",
   "execution_count": 66,
   "metadata": {},
   "outputs": [],
   "source": [
    "stocks_notional = stocks_notional.rename(columns={'T': 'ticker'})\n",
    "stocks_notional = stocks_notional.reset_index(drop = True)"
   ]
  },
  {
   "cell_type": "code",
   "execution_count": 67,
   "metadata": {},
   "outputs": [
    {
     "data": {
      "text/html": [
       "<div>\n",
       "<style scoped>\n",
       "    .dataframe tbody tr th:only-of-type {\n",
       "        vertical-align: middle;\n",
       "    }\n",
       "\n",
       "    .dataframe tbody tr th {\n",
       "        vertical-align: top;\n",
       "    }\n",
       "\n",
       "    .dataframe thead th {\n",
       "        text-align: right;\n",
       "    }\n",
       "</style>\n",
       "<table border=\"1\" class=\"dataframe\">\n",
       "  <thead>\n",
       "    <tr style=\"text-align: right;\">\n",
       "      <th></th>\n",
       "      <th>ticker</th>\n",
       "      <th>notional</th>\n",
       "    </tr>\n",
       "  </thead>\n",
       "  <tbody>\n",
       "    <tr>\n",
       "      <th>0</th>\n",
       "      <td>NVDA</td>\n",
       "      <td>4.088891e+11</td>\n",
       "    </tr>\n",
       "    <tr>\n",
       "      <th>1</th>\n",
       "      <td>TSLA</td>\n",
       "      <td>1.667005e+11</td>\n",
       "    </tr>\n",
       "    <tr>\n",
       "      <th>2</th>\n",
       "      <td>AAPL</td>\n",
       "      <td>1.003247e+11</td>\n",
       "    </tr>\n",
       "    <tr>\n",
       "      <th>3</th>\n",
       "      <td>MSFT</td>\n",
       "      <td>7.936287e+10</td>\n",
       "    </tr>\n",
       "    <tr>\n",
       "      <th>4</th>\n",
       "      <td>AMD</td>\n",
       "      <td>7.429972e+10</td>\n",
       "    </tr>\n",
       "    <tr>\n",
       "      <th>...</th>\n",
       "      <td>...</td>\n",
       "      <td>...</td>\n",
       "    </tr>\n",
       "    <tr>\n",
       "      <th>495</th>\n",
       "      <td>APA</td>\n",
       "      <td>1.365597e+09</td>\n",
       "    </tr>\n",
       "    <tr>\n",
       "      <th>496</th>\n",
       "      <td>LITE</td>\n",
       "      <td>1.360415e+09</td>\n",
       "    </tr>\n",
       "    <tr>\n",
       "      <th>497</th>\n",
       "      <td>BJ</td>\n",
       "      <td>1.360192e+09</td>\n",
       "    </tr>\n",
       "    <tr>\n",
       "      <th>498</th>\n",
       "      <td>RF</td>\n",
       "      <td>1.359251e+09</td>\n",
       "    </tr>\n",
       "    <tr>\n",
       "      <th>499</th>\n",
       "      <td>STT</td>\n",
       "      <td>1.355332e+09</td>\n",
       "    </tr>\n",
       "  </tbody>\n",
       "</table>\n",
       "<p>500 rows × 2 columns</p>\n",
       "</div>"
      ],
      "text/plain": [
       "    ticker      notional\n",
       "0     NVDA  4.088891e+11\n",
       "1     TSLA  1.667005e+11\n",
       "2     AAPL  1.003247e+11\n",
       "3     MSFT  7.936287e+10\n",
       "4      AMD  7.429972e+10\n",
       "..     ...           ...\n",
       "495    APA  1.365597e+09\n",
       "496   LITE  1.360415e+09\n",
       "497     BJ  1.360192e+09\n",
       "498     RF  1.359251e+09\n",
       "499    STT  1.355332e+09\n",
       "\n",
       "[500 rows x 2 columns]"
      ]
     },
     "execution_count": 67,
     "metadata": {},
     "output_type": "execute_result"
    }
   ],
   "source": [
    "stocks_notional"
   ]
  },
  {
   "cell_type": "code",
   "execution_count": null,
   "metadata": {},
   "outputs": [],
   "source": []
  }
 ],
 "metadata": {
  "kernelspec": {
   "display_name": "base",
   "language": "python",
   "name": "python3"
  },
  "language_info": {
   "codemirror_mode": {
    "name": "ipython",
    "version": 3
   },
   "file_extension": ".py",
   "mimetype": "text/x-python",
   "name": "python",
   "nbconvert_exporter": "python",
   "pygments_lexer": "ipython3",
   "version": "3.11.9"
  }
 },
 "nbformat": 4,
 "nbformat_minor": 2
}
