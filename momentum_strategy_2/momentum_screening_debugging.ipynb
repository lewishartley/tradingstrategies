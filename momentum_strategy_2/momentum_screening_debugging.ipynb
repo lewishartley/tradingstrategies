{
 "cells": [
  {
   "cell_type": "code",
   "execution_count": 1,
   "metadata": {},
   "outputs": [],
   "source": [
    "import requests\n",
    "import pandas as pd\n",
    "import numpy as np\n",
    "import sqlalchemy\n",
    "import matplotlib.pyplot as plt\n",
    "from datetime import datetime, timedelta\n",
    "from pandas_market_calendars import get_calendar\n",
    "from dateutil.relativedelta import relativedelta"
   ]
  },
  {
   "cell_type": "code",
   "execution_count": 2,
   "metadata": {},
   "outputs": [],
   "source": [
    "polygon_api_key = \"KkfCQ7fsZnx0yK4bhX9fD81QplTh0Pf3\"\n",
    "calendar = get_calendar(\"NYSE\")\n",
    "\n",
    "engine = sqlalchemy.create_engine(\"sqlite:///C:/Users/lewis/OneDrive/tradingstrategies/databases/momentum_strategy_2_database.db\")"
   ]
  },
  {
   "cell_type": "code",
   "execution_count": 5,
   "metadata": {},
   "outputs": [],
   "source": [
    "momentum_dataset = pd.read_sql(\"SELECT * FROM momentum_dataset\", con = engine)\n",
    "stock_returns = pd.read_sql(\"SELECT * FROM stock_returns\", con = engine)"
   ]
  },
  {
   "cell_type": "code",
   "execution_count": 6,
   "metadata": {},
   "outputs": [],
   "source": [
    "stock_returns = stock_returns.set_index('ticker')"
   ]
  },
  {
   "cell_type": "code",
   "execution_count": 8,
   "metadata": {},
   "outputs": [],
   "source": [
    "start_date = pd.to_datetime(stock_returns.columns[0]).date()\n",
    "end_date = pd.to_datetime(stock_returns.columns[-1]).date()\n",
    "dates = calendar.schedule(start_date = start_date, end_date = end_date)\n"
   ]
  },
  {
   "cell_type": "code",
   "execution_count": 15,
   "metadata": {},
   "outputs": [],
   "source": [
    "days_12m = len(dates)\n",
    "days_6m = round(len(dates)/2)\n",
    "days_3m = round(len(dates)/4)\n",
    "days_1m = round(len(dates)/12)\n",
    "days_2w = round(len(dates)/24)\n",
    "days_1w = round(len(dates)/48)"
   ]
  },
  {
   "cell_type": "code",
   "execution_count": 18,
   "metadata": {},
   "outputs": [],
   "source": [
    "momentum_screening_dataset = pd.DataFrame(momentum_dataset['ticker'])\n",
    "momentum_dataset = momentum_dataset.set_index('ticker')"
   ]
  },
  {
   "cell_type": "code",
   "execution_count": 21,
   "metadata": {},
   "outputs": [],
   "source": [
    "momentum_screening_dataset['12m implied 1d momentum'] = momentum_screening_dataset['ticker'].map(momentum_dataset['12m momentum']/days_12m)\n",
    "momentum_screening_dataset['6m implied 1d momentum'] = momentum_screening_dataset['ticker'].map(momentum_dataset['6m momentum']/days_6m)\n",
    "momentum_screening_dataset['3m implied 1d momentum'] = momentum_screening_dataset['ticker'].map(momentum_dataset['3m momentum']/days_3m)\n",
    "momentum_screening_dataset['1m implied 1d momentum'] = momentum_screening_dataset['ticker'].map(momentum_dataset['1m momentum']/days_1m)\n",
    "momentum_screening_dataset['2w implied 1d momentum'] = momentum_screening_dataset['ticker'].map(momentum_dataset['2w momentum']/days_2w)\n",
    "momentum_screening_dataset['1w implied 1d momentum'] = momentum_screening_dataset['ticker'].map(momentum_dataset['1w momentum']/days_1w)"
   ]
  },
  {
   "cell_type": "code",
   "execution_count": 26,
   "metadata": {},
   "outputs": [],
   "source": [
    "momentum_screening_dataset['1d momentum'] = momentum_screening_dataset['ticker'].map(momentum_dataset['1d momentum'])"
   ]
  },
  {
   "cell_type": "code",
   "execution_count": 43,
   "metadata": {},
   "outputs": [],
   "source": [
    "momentum_screening_dataset['12m6m difference'] = momentum_screening_dataset['6m implied 1d momentum'] - momentum_screening_dataset['12m implied 1d momentum']\n",
    "momentum_screening_dataset['6m3m difference'] = momentum_screening_dataset['3m implied 1d momentum'] - momentum_screening_dataset['6m implied 1d momentum']\n",
    "momentum_screening_dataset['3m1m difference'] = momentum_screening_dataset['1m implied 1d momentum'] - momentum_screening_dataset['3m implied 1d momentum']\n",
    "momentum_screening_dataset['1m2w difference'] = momentum_screening_dataset['2w implied 1d momentum'] - momentum_screening_dataset['1m implied 1d momentum']\n",
    "momentum_screening_dataset['2w1w difference'] = momentum_screening_dataset['1w implied 1d momentum'] - momentum_screening_dataset['2w implied 1d momentum']\n",
    "momentum_screening_dataset['1w1d difference'] = momentum_screening_dataset['1d momentum'] - momentum_screening_dataset['1w implied 1d momentum']"
   ]
  },
  {
   "cell_type": "code",
   "execution_count": 57,
   "metadata": {},
   "outputs": [
    {
     "data": {
      "text/plain": [
       "['MSTR',\n",
       " 'MCD',\n",
       " 'TJX',\n",
       " 'MARA',\n",
       " 'MDT',\n",
       " 'CVS',\n",
       " 'RIVN',\n",
       " 'ICE',\n",
       " 'DHI',\n",
       " 'MO',\n",
       " 'CI',\n",
       " 'ET',\n",
       " 'ALB',\n",
       " 'ODFL',\n",
       " 'MCO',\n",
       " 'LEN',\n",
       " 'CLSK',\n",
       " 'WMB',\n",
       " 'EBAY',\n",
       " 'VKTX',\n",
       " 'SRPT',\n",
       " 'APTV',\n",
       " 'RUN',\n",
       " 'TOL',\n",
       " 'CMI',\n",
       " 'PHM',\n",
       " 'SPG',\n",
       " 'TRV',\n",
       " 'PSA',\n",
       " 'UTHR',\n",
       " 'DRI',\n",
       " 'PAYX',\n",
       " 'EAT',\n",
       " 'BKR',\n",
       " 'EPD',\n",
       " 'ITW',\n",
       " 'NVR',\n",
       " 'ZM',\n",
       " 'CORZ',\n",
       " 'ZBH',\n",
       " 'MTCH',\n",
       " 'LHX',\n",
       " 'HRB',\n",
       " 'CSGP',\n",
       " 'FITB',\n",
       " 'STLD',\n",
       " 'RIOT',\n",
       " 'SBAC',\n",
       " 'ZIM',\n",
       " 'JBHT']"
      ]
     },
     "execution_count": 57,
     "metadata": {},
     "output_type": "execute_result"
    }
   ],
   "source": [
    "increasing_momentum_conditions = (momentum_screening_dataset['1w implied 1d momentum'] > 0) & (momentum_screening_dataset['2w1w difference'] > momentum_screening_dataset['1m2w difference']) & (momentum_screening_dataset['1w implied 1d momentum'] > momentum_screening_dataset['2w implied 1d momentum']) & (momentum_screening_dataset['2w implied 1d momentum'] > momentum_screening_dataset['1m implied 1d momentum'])\n",
    "increasing_momentum = momentum_screening_dataset[increasing_momentum_conditions]['ticker'].tolist()"
   ]
  }
 ],
 "metadata": {
  "kernelspec": {
   "display_name": "base",
   "language": "python",
   "name": "python3"
  },
  "language_info": {
   "codemirror_mode": {
    "name": "ipython",
    "version": 3
   },
   "file_extension": ".py",
   "mimetype": "text/x-python",
   "name": "python",
   "nbconvert_exporter": "python",
   "pygments_lexer": "ipython3",
   "version": "3.11.9"
  }
 },
 "nbformat": 4,
 "nbformat_minor": 2
}
