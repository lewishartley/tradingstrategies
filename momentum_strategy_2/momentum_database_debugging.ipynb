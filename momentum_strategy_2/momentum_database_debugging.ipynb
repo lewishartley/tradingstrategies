{
 "cells": [
  {
   "cell_type": "code",
   "execution_count": 68,
   "metadata": {},
   "outputs": [],
   "source": [
    "import requests\n",
    "import pandas as pd\n",
    "import numpy as np\n",
    "import sqlalchemy\n",
    "import matplotlib.pyplot as plt\n",
    "from datetime import datetime, timedelta\n",
    "from pandas_market_calendars import get_calendar\n",
    "from dateutil.relativedelta import relativedelta"
   ]
  },
  {
   "cell_type": "code",
   "execution_count": 69,
   "metadata": {},
   "outputs": [],
   "source": [
    "polygon_api_key = \"KkfCQ7fsZnx0yK4bhX9fD81QplTh0Pf3\"\n",
    "calendar = get_calendar(\"NYSE\")\n",
    "\n",
    "engine = sqlalchemy.create_engine(\"sqlite:///C:/Users/lewis/OneDrive/tradingstrategies/databases/momentum_strategy_2_database.db\")"
   ]
  },
  {
   "cell_type": "code",
   "execution_count": 70,
   "metadata": {},
   "outputs": [],
   "source": [
    "tickers = pd.read_sql(\"SELECT * FROM all_stocks\", con = engine)[\"ticker\"].values\n",
    "stock_returns = pd.read_sql(\"SELECT * FROM stock_returns\", con = engine)"
   ]
  },
  {
   "cell_type": "code",
   "execution_count": 71,
   "metadata": {},
   "outputs": [],
   "source": [
    "momentum_dataset = pd.DataFrame(stock_returns['ticker'])"
   ]
  },
  {
   "cell_type": "code",
   "execution_count": 72,
   "metadata": {},
   "outputs": [],
   "source": [
    "stock_returns = stock_returns.set_index('ticker')"
   ]
  },
  {
   "cell_type": "code",
   "execution_count": 73,
   "metadata": {},
   "outputs": [],
   "source": [
    "gross_returns = stock_returns + 1\n",
    "gross_returns.to_sql(\"gross_returns\", con = engine, if_exists=\"replace\")"
   ]
  },
  {
   "cell_type": "code",
   "execution_count": 98,
   "metadata": {},
   "outputs": [],
   "source": [
    "#one thing that is a bit dodgy here is if there are market holidays in when any of the relative changes fall. Will look into using nyse.schedule() somehow\n",
    "momentum_dataset['12m momentum'] = momentum_dataset['ticker'].map(gross_returns.loc[:, (pd.to_datetime(gross_returns.columns[-1]).date() - relativedelta(months = 12)).strftime(\"%Y-%m-%d\"):].cumprod(axis=1).iloc[:, -1]-1)"
   ]
  },
  {
   "cell_type": "code",
   "execution_count": 99,
   "metadata": {},
   "outputs": [],
   "source": [
    "momentum_dataset['6m momentum'] = momentum_dataset['ticker'].map(gross_returns.loc[:, (pd.to_datetime(gross_returns.columns[-1]).date() - relativedelta(months = 6)).strftime(\"%Y-%m-%d\"):].cumprod(axis=1).iloc[:, -1]-1)"
   ]
  },
  {
   "cell_type": "code",
   "execution_count": 100,
   "metadata": {},
   "outputs": [],
   "source": [
    "momentum_dataset['3m momentum'] = momentum_dataset['ticker'].map(gross_returns.loc[:, (pd.to_datetime(gross_returns.columns[-1]).date() - relativedelta(months = 3)).strftime(\"%Y-%m-%d\"):].cumprod(axis=1).iloc[:, -1]-1)"
   ]
  },
  {
   "cell_type": "code",
   "execution_count": 101,
   "metadata": {},
   "outputs": [],
   "source": [
    "momentum_dataset['1m momentum'] = momentum_dataset['ticker'].map(gross_returns.loc[:, (pd.to_datetime(gross_returns.columns[-1]).date() - relativedelta(months = 1)).strftime(\"%Y-%m-%d\"):].cumprod(axis=1).iloc[:, -1]-1)"
   ]
  },
  {
   "cell_type": "code",
   "execution_count": 102,
   "metadata": {},
   "outputs": [],
   "source": [
    "momentum_dataset['2w momentum'] = momentum_dataset['ticker'].map(gross_returns.loc[:, (pd.to_datetime(gross_returns.columns[-1]).date() - relativedelta(weeks = 2)).strftime(\"%Y-%m-%d\"):].cumprod(axis=1).iloc[:, -1]-1)"
   ]
  },
  {
   "cell_type": "code",
   "execution_count": 103,
   "metadata": {},
   "outputs": [],
   "source": [
    "momentum_dataset['1w momentum'] = momentum_dataset['ticker'].map(gross_returns.loc[:, (pd.to_datetime(gross_returns.columns[-1]).date() - relativedelta(weeks = 1)).strftime(\"%Y-%m-%d\"):].cumprod(axis=1).iloc[:, -1]-1)"
   ]
  },
  {
   "cell_type": "code",
   "execution_count": 104,
   "metadata": {},
   "outputs": [],
   "source": [
    "momentum_dataset['1d momentum'] = momentum_dataset['ticker'].map(gross_returns.loc[:, gross_returns.columns[-2]:].cumprod(axis=1).iloc[:, -1]-1)"
   ]
  },
  {
   "cell_type": "code",
   "execution_count": 105,
   "metadata": {},
   "outputs": [
    {
     "data": {
      "text/html": [
       "<div>\n",
       "<style scoped>\n",
       "    .dataframe tbody tr th:only-of-type {\n",
       "        vertical-align: middle;\n",
       "    }\n",
       "\n",
       "    .dataframe tbody tr th {\n",
       "        vertical-align: top;\n",
       "    }\n",
       "\n",
       "    .dataframe thead th {\n",
       "        text-align: right;\n",
       "    }\n",
       "</style>\n",
       "<table border=\"1\" class=\"dataframe\">\n",
       "  <thead>\n",
       "    <tr style=\"text-align: right;\">\n",
       "      <th></th>\n",
       "      <th>ticker</th>\n",
       "      <th>12m momentum</th>\n",
       "      <th>6m momentum</th>\n",
       "      <th>3m momentum</th>\n",
       "      <th>1m momentum</th>\n",
       "      <th>2w momentum</th>\n",
       "      <th>1w momentum</th>\n",
       "      <th>1d momentum</th>\n",
       "    </tr>\n",
       "  </thead>\n",
       "  <tbody>\n",
       "    <tr>\n",
       "      <th>0</th>\n",
       "      <td>NVDA</td>\n",
       "      <td>1.832837</td>\n",
       "      <td>0.647228</td>\n",
       "      <td>0.362507</td>\n",
       "      <td>0.047191</td>\n",
       "      <td>0.232447</td>\n",
       "      <td>0.052987</td>\n",
       "      <td>0.006770</td>\n",
       "    </tr>\n",
       "    <tr>\n",
       "      <th>1</th>\n",
       "      <td>TSLA</td>\n",
       "      <td>-0.055191</td>\n",
       "      <td>0.116053</td>\n",
       "      <td>0.223252</td>\n",
       "      <td>-0.124011</td>\n",
       "      <td>0.108027</td>\n",
       "      <td>0.028860</td>\n",
       "      <td>-0.013213</td>\n",
       "    </tr>\n",
       "    <tr>\n",
       "      <th>2</th>\n",
       "      <td>AAPL</td>\n",
       "      <td>0.279919</td>\n",
       "      <td>0.230352</td>\n",
       "      <td>0.188266</td>\n",
       "      <td>0.012859</td>\n",
       "      <td>0.063429</td>\n",
       "      <td>0.009434</td>\n",
       "      <td>0.001943</td>\n",
       "    </tr>\n",
       "    <tr>\n",
       "      <th>3</th>\n",
       "      <td>MSFT</td>\n",
       "      <td>0.292532</td>\n",
       "      <td>0.012486</td>\n",
       "      <td>-0.031892</td>\n",
       "      <td>-0.059037</td>\n",
       "      <td>0.035015</td>\n",
       "      <td>-0.010071</td>\n",
       "      <td>-0.017329</td>\n",
       "    </tr>\n",
       "    <tr>\n",
       "      <th>4</th>\n",
       "      <td>AMD</td>\n",
       "      <td>0.466780</td>\n",
       "      <td>-0.147806</td>\n",
       "      <td>-0.063678</td>\n",
       "      <td>-0.005710</td>\n",
       "      <td>0.136884</td>\n",
       "      <td>0.051710</td>\n",
       "      <td>-0.017933</td>\n",
       "    </tr>\n",
       "    <tr>\n",
       "      <th>...</th>\n",
       "      <td>...</td>\n",
       "      <td>...</td>\n",
       "      <td>...</td>\n",
       "      <td>...</td>\n",
       "      <td>...</td>\n",
       "      <td>...</td>\n",
       "      <td>...</td>\n",
       "      <td>...</td>\n",
       "    </tr>\n",
       "    <tr>\n",
       "      <th>495</th>\n",
       "      <td>APA</td>\n",
       "      <td>-0.331847</td>\n",
       "      <td>-0.057909</td>\n",
       "      <td>-0.055095</td>\n",
       "      <td>-0.089543</td>\n",
       "      <td>0.000703</td>\n",
       "      <td>-0.034261</td>\n",
       "      <td>0.014612</td>\n",
       "    </tr>\n",
       "    <tr>\n",
       "      <th>496</th>\n",
       "      <td>LITE</td>\n",
       "      <td>0.153187</td>\n",
       "      <td>0.180567</td>\n",
       "      <td>0.300725</td>\n",
       "      <td>0.067665</td>\n",
       "      <td>0.365251</td>\n",
       "      <td>0.132223</td>\n",
       "      <td>0.049300</td>\n",
       "    </tr>\n",
       "    <tr>\n",
       "      <th>497</th>\n",
       "      <td>BJ</td>\n",
       "      <td>0.251058</td>\n",
       "      <td>0.191964</td>\n",
       "      <td>0.028327</td>\n",
       "      <td>-0.092534</td>\n",
       "      <td>-0.017217</td>\n",
       "      <td>-0.032269</td>\n",
       "      <td>-0.055353</td>\n",
       "    </tr>\n",
       "    <tr>\n",
       "      <th>498</th>\n",
       "      <td>RF</td>\n",
       "      <td>0.238328</td>\n",
       "      <td>0.251234</td>\n",
       "      <td>0.170945</td>\n",
       "      <td>0.018758</td>\n",
       "      <td>0.095055</td>\n",
       "      <td>0.079508</td>\n",
       "      <td>0.046810</td>\n",
       "    </tr>\n",
       "    <tr>\n",
       "      <th>499</th>\n",
       "      <td>STT</td>\n",
       "      <td>0.276234</td>\n",
       "      <td>0.160453</td>\n",
       "      <td>0.098706</td>\n",
       "      <td>0.000476</td>\n",
       "      <td>0.080900</td>\n",
       "      <td>0.043327</td>\n",
       "      <td>0.040099</td>\n",
       "    </tr>\n",
       "  </tbody>\n",
       "</table>\n",
       "<p>500 rows × 8 columns</p>\n",
       "</div>"
      ],
      "text/plain": [
       "    ticker  12m momentum  6m momentum  3m momentum  1m momentum  2w momentum  \\\n",
       "0     NVDA      1.832837     0.647228     0.362507     0.047191     0.232447   \n",
       "1     TSLA     -0.055191     0.116053     0.223252    -0.124011     0.108027   \n",
       "2     AAPL      0.279919     0.230352     0.188266     0.012859     0.063429   \n",
       "3     MSFT      0.292532     0.012486    -0.031892    -0.059037     0.035015   \n",
       "4      AMD      0.466780    -0.147806    -0.063678    -0.005710     0.136884   \n",
       "..     ...           ...          ...          ...          ...          ...   \n",
       "495    APA     -0.331847    -0.057909    -0.055095    -0.089543     0.000703   \n",
       "496   LITE      0.153187     0.180567     0.300725     0.067665     0.365251   \n",
       "497     BJ      0.251058     0.191964     0.028327    -0.092534    -0.017217   \n",
       "498     RF      0.238328     0.251234     0.170945     0.018758     0.095055   \n",
       "499    STT      0.276234     0.160453     0.098706     0.000476     0.080900   \n",
       "\n",
       "     1w momentum  1d momentum  \n",
       "0       0.052987     0.006770  \n",
       "1       0.028860    -0.013213  \n",
       "2       0.009434     0.001943  \n",
       "3      -0.010071    -0.017329  \n",
       "4       0.051710    -0.017933  \n",
       "..           ...          ...  \n",
       "495    -0.034261     0.014612  \n",
       "496     0.132223     0.049300  \n",
       "497    -0.032269    -0.055353  \n",
       "498     0.079508     0.046810  \n",
       "499     0.043327     0.040099  \n",
       "\n",
       "[500 rows x 8 columns]"
      ]
     },
     "execution_count": 105,
     "metadata": {},
     "output_type": "execute_result"
    }
   ],
   "source": [
    "momentum_dataset.to_sql(\"momentum_dataset\", con = engine, if_exists=\"replace\")"
   ]
  },
  {
   "cell_type": "code",
   "execution_count": null,
   "metadata": {},
   "outputs": [],
   "source": []
  }
 ],
 "metadata": {
  "kernelspec": {
   "display_name": "base",
   "language": "python",
   "name": "python3"
  },
  "language_info": {
   "codemirror_mode": {
    "name": "ipython",
    "version": 3
   },
   "file_extension": ".py",
   "mimetype": "text/x-python",
   "name": "python",
   "nbconvert_exporter": "python",
   "pygments_lexer": "ipython3",
   "version": "3.11.9"
  }
 },
 "nbformat": 4,
 "nbformat_minor": 2
}
